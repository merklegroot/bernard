{
 "cells": [
  {
   "cell_type": "code",
   "execution_count": 1,
   "metadata": {},
   "outputs": [
    {
     "data": {
      "image/png": "[encoded data removed]",
      "text/plain": [
       "<Figure size 500x500 with 1 Axes>"
      ]
     },
     "metadata": {},
     "output_type": "display_data"
    }
   ],
   "source": [
    "import matplotlib.pyplot as plt\n",
    "import numpy as np\n",
    "from matplotlib.patches import FancyBboxPatch\n",
    "\n",
    "# Create a single figure and axes\n",
    "fig, ax = plt.subplots(figsize=(5,5))\n",
    "ax.set_xlim(-2.5, 2.5)\n",
    "ax.set_ylim(-1.5, 1.5)\n",
    "ax.axis('off')\n",
    "ax.set_aspect('equal')\n",
    "\n",
    "size_x = 1\n",
    "size_y = 0.6\n",
    "\n",
    "def draw_connection(a: tuple[float, float], b: tuple[float, float]):\n",
    "    draw_offset_x_a = 1.5 * size_x * a[0]\n",
    "    draw_offset_y_a = 1.5 * size_y * a[1]\n",
    "\n",
    "    draw_offset_x_b = 1.5 * size_x * b[0]\n",
    "    draw_offset_y_b = 1.5 * size_y * b[1]\n",
    "\n",
    "    ax.plot([draw_offset_x_a, draw_offset_x_b], [draw_offset_y_a, draw_offset_y_b], 'k-')\n",
    "\n",
    "def draw_rounded_rect(x, y, text):\n",
    "    draw_offset_x = 1.5 * size_x * x\n",
    "    draw_offset_y = 1.5 * size_y * y\n",
    "\n",
    "    margin_x = 0.1\n",
    "\n",
    "    margin_y = 0.1\n",
    "\n",
    "    draw_size_x = size_x - 2 * margin_x\n",
    "    draw_size_y = size_y - 2 * margin_y\n",
    "\n",
    "    lower_left_x = -size_x / 2 + margin_x\n",
    "    lower_left_y = -size_y / 2 + margin_y\n",
    "\n",
    "    rect = FancyBboxPatch(\n",
    "        (lower_left_x + draw_offset_x, lower_left_y + draw_offset_y),  \n",
    "        draw_size_x,\n",
    "        draw_size_y,\n",
    "        boxstyle='round,pad=0.1',\n",
    "        facecolor='#ddd',\n",
    "        edgecolor='black'\n",
    "    )\n",
    "    \n",
    "    ax.add_patch(rect)\n",
    "\n",
    "    ax.text(draw_offset_x, draw_offset_y, text, \n",
    "            horizontalalignment='center',\n",
    "            verticalalignment='center',\n",
    "            fontsize=8)\n",
    "\n",
    "draw_connection((0, 0), (1, 1))\n",
    "\n",
    "draw_rounded_rect(0, 0, 'room A')\n",
    "draw_rounded_rect(1, 1, 'room B')\n",
    "\n",
    "plt.show()\n"
   ]
  }
 ],
 "metadata": {
  "kernelspec": {
   "display_name": "Python 3",
   "language": "python",
   "name": "python3"
  },
  "language_info": {
   "codemirror_mode": {
    "name": "ipython",
    "version": 3
   },
   "file_extension": ".py",
   "mimetype": "text/x-python",
   "name": "python",
   "nbconvert_exporter": "python",
   "pygments_lexer": "ipython3",
   "version": "3.10.6"
  }
 },
 "nbformat": 4,
 "nbformat_minor": 2
}
