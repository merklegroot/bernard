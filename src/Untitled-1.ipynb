{
 "cells": [
  {
   "cell_type": "code",
   "execution_count": 4,
   "metadata": {},
   "outputs": [
    {
     "name": "stdout",
     "output_type": "stream",
     "text": [
      "Color(0.568627, 0.941176, 0.513725, 1)\n"
     ]
    }
   ],
   "source": [
    "# convert it to godot's color format\n",
    "def rgb_to_godot_color(hex_color):\n",
    "    # Remove '#' if present\n",
    "    hex_color = hex_color.lstrip('#')\n",
    "    \n",
    "    # Convert hex to RGB values (0-255)\n",
    "    r = int(hex_color[0:2], 16)\n",
    "    g = int(hex_color[2:4], 16)\n",
    "    b = int(hex_color[4:6], 16)\n",
    "    \n",
    "    # Convert to float values (0-1)\n",
    "    r_float = round(r / 255, 6)\n",
    "    g_float = round(g / 255, 6)\n",
    "    b_float = round(b / 255, 6)\n",
    "    \n",
    "    return f\"Color({r_float}, {g_float}, {b_float}, 1)\"\n",
    "\n",
    "# Convert the RGB color\n",
    "godot_color = rgb_to_godot_color('91F083')\n",
    "print(godot_color)\n",
    "\n",
    "\n"
   ]
  }
 ],
 "metadata": {
  "kernelspec": {
   "display_name": "Python 3",
   "language": "python",
   "name": "python3"
  },
  "language_info": {
   "codemirror_mode": {
    "name": "ipython",
    "version": 3
   },
   "file_extension": ".py",
   "mimetype": "text/x-python",
   "name": "python",
   "nbconvert_exporter": "python",
   "pygments_lexer": "ipython3",
   "version": "3.10.6"
  }
 },
 "nbformat": 4,
 "nbformat_minor": 2
}
